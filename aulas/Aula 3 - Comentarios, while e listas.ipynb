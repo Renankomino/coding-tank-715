{
 "cells": [
  {
   "cell_type": "markdown",
   "metadata": {},
   "source": [
    "# Aula 3 - comentarios, while e listas"
   ]
  },
  {
   "cell_type": "markdown",
   "metadata": {},
   "source": [
    "## Nota sobre comparações entre floats\n"
   ]
  },
  {
   "cell_type": "code",
   "execution_count": null,
   "metadata": {},
   "outputs": [],
   "source": [
    "15 = 1.5 * 10 ** 1 \n",
    "150 = 1.5 * 10 ** 2 "
   ]
  },
  {
   "cell_type": "code",
   "execution_count": 19,
   "metadata": {},
   "outputs": [
    {
     "data": {
      "text/plain": [
       "True"
      ]
     },
     "execution_count": 19,
     "metadata": {},
     "output_type": "execute_result"
    }
   ],
   "source": [
    "peso = 90\n",
    "abs(peso * 1.1 - 99) < 1e-8"
   ]
  },
  {
   "cell_type": "markdown",
   "metadata": {},
   "source": [
    "## Esclarecimentos das dúvidas da última aula\n",
    "\n",
    "- Codigo legivel vs código mais rapido\n",
    "- Qualquer expressão que produza um booleano (ou que seja avaliavel como booleano) pode ser utilizada como condição no if\n",
    "- O computador só executa o que você escreve\n",
    "- Dentro do bloco do if eu posso colocar qualquer quantidade de código, inclusive outros if's "
   ]
  },
  {
   "cell_type": "code",
   "execution_count": null,
   "metadata": {},
   "outputs": [],
   "source": [
    "a = 1\n",
    "if a == 1:\n",
    "    b = 10\n",
    "    c = input()\n",
    "    print(b, c)\n",
    "    if b ==0:\n",
    "        while"
   ]
  },
  {
   "cell_type": "code",
   "execution_count": 22,
   "metadata": {},
   "outputs": [
    {
     "name": "stdout",
     "output_type": "stream",
     "text": [
      "10\n"
     ]
    }
   ],
   "source": [
    "a = 10\n",
    "if a != 0:\n",
    "    print(a)"
   ]
  },
  {
   "cell_type": "markdown",
   "metadata": {},
   "source": [
    "### Pergunta\n",
    "```python\n",
    "num1 = 10\n",
    "num2 = num1\n",
    "num1 = 20\n",
    "num2 = ?\n",
    "```"
   ]
  },
  {
   "cell_type": "code",
   "execution_count": 26,
   "metadata": {},
   "outputs": [
    {
     "data": {
      "text/plain": [
       "(20, 10)"
      ]
     },
     "execution_count": 26,
     "metadata": {},
     "output_type": "execute_result"
    }
   ],
   "source": [
    "num1 = 10\n",
    "num2 = num1\n",
    "num1 = 20\n",
    "\n",
    "num1, num2"
   ]
  },
  {
   "cell_type": "markdown",
   "metadata": {},
   "source": [
    "### Execução manual do código. Exemplo.\n",
    "Executar na mão o código:\n",
    "\n",
    "```python\n",
    "a = 10\n",
    "b = 30\n",
    "k = 'a'\n",
    "\n",
    "if k == a:\n",
    "    print('entrou')\n",
    "```  "
   ]
  },
  {
   "cell_type": "markdown",
   "metadata": {},
   "source": [
    "a     b    k\n",
    "10\n",
    "10    30   \n",
    "10    30   'a'\n",
    "\n"
   ]
  },
  {
   "cell_type": "code",
   "execution_count": 27,
   "metadata": {},
   "outputs": [],
   "source": [
    "a = 10\n",
    "b = 30\n",
    "k = 'a'\n",
    "\n",
    "if k == a:\n",
    "    print('entrou')"
   ]
  },
  {
   "cell_type": "markdown",
   "metadata": {},
   "source": [
    "# Comentários\n",
    "\n",
    "São utilizados para melhor explicar um trecho de código.\n",
    "\n",
    "Os comentários não são executados pelo Python. \n",
    "\n",
    "Tudo o que está comentado é ignorado, serve apenas para guiar quem está lendo/escrevendo o código\n",
    "\n",
    "É indicado com o uso da #, e em cor azul marinho no Jupyter\n",
    "\n",
    "- Atalho: CTRL + / : A LINHA VIRA UM COMENTÁRIO"
   ]
  },
  {
   "cell_type": "code",
   "execution_count": 33,
   "metadata": {},
   "outputs": [
    {
     "name": "stdout",
     "output_type": "stream",
     "text": [
      "bla\n"
     ]
    }
   ],
   "source": [
    "# imprime bla\n",
    "print('bla') "
   ]
  },
  {
   "cell_type": "markdown",
   "metadata": {},
   "source": [
    "Também é possível fazer comentários de várias linhas utilizando strings de multiplas linhas. "
   ]
  },
  {
   "cell_type": "code",
   "execution_count": 38,
   "metadata": {},
   "outputs": [
    {
     "name": "stdout",
     "output_type": "stream",
     "text": [
      "hello\n"
     ]
    }
   ],
   "source": [
    "10\n",
    "'bla'\n",
    "print('hello')\n",
    "# daosdiasodi"
   ]
  },
  {
   "cell_type": "code",
   "execution_count": 34,
   "metadata": {},
   "outputs": [
    {
     "data": {
      "text/plain": [
       "' \\ndaosdnoasndoasnd aosndasnodknasodnasodn naodsndoiasn\\ndoansdoasndnoasdn\\ndoaskndoaksnd \\n'"
      ]
     },
     "execution_count": 34,
     "metadata": {},
     "output_type": "execute_result"
    }
   ],
   "source": [
    "''' \n",
    "daosdnoasndoasnd aosndasnodknasodnasodn naodsndoiasn\n",
    "doansdoasndnoasdn\n",
    "doaskndoaksnd \n",
    "'''"
   ]
  },
  {
   "cell_type": "markdown",
   "metadata": {},
   "source": [
    "Em geral, usamos essas string em comentarios em locais especificos do código, como logo no inicio do arquivo ou após a definição de uma função ou de uma classe. Comentários gerais devem ser feitos com a #"
   ]
  },
  {
   "cell_type": "markdown",
   "metadata": {},
   "source": [
    "# Laços de repetição (while)\n",
    "\n",
    "Uma das utilidades de linguagens de programação é a de automatizar tarefas que são repetitivas.\n",
    "\n",
    "Mas, pra isso ser viável, seria bom se tivéssemos uma estrutura para **repetir comandos**, não é mesmo?\n",
    "\n",
    "Imagine que eu queira exibir na tela \"Olá, mundo!\" 5 vezes. Podemos fazer:"
   ]
  },
  {
   "cell_type": "code",
   "execution_count": 40,
   "metadata": {},
   "outputs": [
    {
     "name": "stdout",
     "output_type": "stream",
     "text": [
      "Olá mundo!\n",
      "Olá mundo!\n",
      "Olá mundo!\n",
      "Olá mundo!\n",
      "Olá mundo!\n"
     ]
    }
   ],
   "source": [
    "print('Olá mundo!')\n",
    "print('Olá mundo!')\n",
    "print('Olá mundo!')\n",
    "print('Olá mundo!')\n",
    "print('Olá mundo!')"
   ]
  },
  {
   "cell_type": "markdown",
   "metadata": {},
   "source": [
    "Mas, e se eu quiser exibir essa mensagem 1000 vezes? Ou 1 milhão de vezes? Não é ideal escrevermos o mesmo pedaço de código tantas vezes, né?\n",
    "\n",
    "Para isso, existem os **laços de repetição**, que permitem repetir pedaços de código quantas vezes desejarmos!\n",
    "\n",
    "O primeiro laço que vamos ver é o **while**. Este laço tem a seguinte estrutura:\n",
    "\n",
    "```python\n",
    "while (condicao é True):\n",
    "    operacao_repetida\n",
    "```\n",
    "\n",
    "Ou seja, o que tá no bloco do while é repetido **enquanto a condição for verdadeira**\n",
    "\n",
    "Para controlar o número de vezes que o while é executado, temos que lembrar da **atualização da condição** a cada iteração do laço!\n",
    "\n",
    "Isso é, temos que **atualizar** a variavel que contabiliza as repetições no loop"
   ]
  },
  {
   "cell_type": "code",
   "execution_count": 43,
   "metadata": {},
   "outputs": [],
   "source": [
    "idade = 0"
   ]
  },
  {
   "cell_type": "code",
   "execution_count": 44,
   "metadata": {},
   "outputs": [
    {
     "name": "stdout",
     "output_type": "stream",
     "text": [
      "1\n"
     ]
    }
   ],
   "source": [
    "# atualizando o valor da variavel\n",
    "idade = idade + 1\n",
    "idade += 1\n",
    "print(idade)"
   ]
  },
  {
   "cell_type": "code",
   "execution_count": 50,
   "metadata": {},
   "outputs": [
    {
     "name": "stdout",
     "output_type": "stream",
     "text": [
      "5\n",
      "5\n"
     ]
    }
   ],
   "source": [
    "idade = 10\n",
    "idade = idade // 2\n",
    "print(idade)\n",
    "\n",
    "idade = 10\n",
    "idade //= 2\n",
    "print(idade)"
   ]
  },
  {
   "cell_type": "markdown",
   "metadata": {},
   "source": [
    "Assim, o que fazemos é **definir a condição do while em termos de uma variável que tenha seu valor atualizado!**\n",
    "\n",
    "Para isso, é comum nos referirmos à variàvel da condição como **variável contadora**.\n",
    "\n",
    "Para atualizar a variável contadora dentro do while, em geral a atualizamos em +1\n",
    "\n",
    "_"
   ]
  },
  {
   "cell_type": "code",
   "execution_count": 1,
   "metadata": {},
   "outputs": [
    {
     "name": "stdout",
     "output_type": "stream",
     "text": [
      "Olá mundo!\n",
      "Olá mundo!\n",
      "Olá mundo!\n",
      "Olá mundo!\n",
      "Olá mundo!\n"
     ]
    }
   ],
   "source": [
    "cont = 0\n",
    "while cont < 5:\n",
    "    print('Olá mundo!')\n",
    "    cont += 1"
   ]
  },
  {
   "cell_type": "markdown",
   "metadata": {},
   "source": [
    "Vamos entender um pouco melhor como a variável contadora se comporta?\n",
    "\n",
    "Pra isso, basta exibi-la a cada iteração:"
   ]
  },
  {
   "cell_type": "code",
   "execution_count": 2,
   "metadata": {},
   "outputs": [
    {
     "name": "stdout",
     "output_type": "stream",
     "text": [
      "Olá mundo! cont= 0\n",
      "Olá mundo! cont= 2\n",
      "Olá mundo! cont= 4\n"
     ]
    }
   ],
   "source": [
    "cont = 0\n",
    "while cont < 5:\n",
    "    print('Olá mundo! cont=', cont)\n",
    "    cont += 1\n",
    "    cont += 1\n",
    "    "
   ]
  },
  {
   "cell_type": "markdown",
   "metadata": {},
   "source": [
    "O código acima equivale a:\n"
   ]
  },
  {
   "cell_type": "code",
   "execution_count": 57,
   "metadata": {},
   "outputs": [
    {
     "name": "stdout",
     "output_type": "stream",
     "text": [
      "Olá mundo! cont= 0\n",
      "Olá mundo! cont= 1\n",
      "Olá mundo! cont= 2\n",
      "Olá mundo! cont= 3\n",
      "Olá mundo! cont= 4\n"
     ]
    }
   ],
   "source": [
    "cont = 0\n",
    "\n",
    "print('Olá mundo! cont=', cont)\n",
    "cont += 1\n",
    "\n",
    "print('Olá mundo! cont=', cont)\n",
    "cont += 1\n",
    "\n",
    "print('Olá mundo! cont=', cont)\n",
    "cont += 1\n",
    "\n",
    "print('Olá mundo! cont=', cont)\n",
    "cont += 1\n",
    "\n",
    "print('Olá mundo! cont=', cont)\n",
    "cont += 1\n"
   ]
  },
  {
   "cell_type": "markdown",
   "metadata": {},
   "source": [
    "Usar a condição com < ao invés de != em geral garante maior segurança ao seu algoritmo, pois evita imprevistos caso você receba números do usuário!\n",
    "\n",
    "Podemos também atualizar a condição de repetição para validar a entrada do usuário\n",
    "\n",
    "\n",
    "Esse uso é bem importante para **garantir que o usuário digitou corretamente o que foi solicitado**\n",
    "\n",
    "Por exemplo, vamos pedir pro usuário digitar um número maior que 10. **Enquanto ele não fizer o que queremos**, vamos continuar pedindo pra ele digitar um novo valor:"
   ]
  },
  {
   "cell_type": "code",
   "execution_count": 3,
   "metadata": {},
   "outputs": [
    {
     "name": "stdout",
     "output_type": "stream",
     "text": [
      "Digite um numero maior que 10:0\n",
      "Digite um numero maior que 10:2\n",
      "Digite um numero maior que 10:11\n"
     ]
    }
   ],
   "source": [
    "num = float(input('Digite um numero maior que 10:'))\n",
    "while num <= 10:\n",
    "    num = float(input('Digite um numero maior que 10:'))"
   ]
  },
  {
   "cell_type": "markdown",
   "metadata": {},
   "source": [
    "Outro exemplo, onde pedirmos pro usuário digitar sua nota (para ser um valor válido, tem que estar entre 0 e 10!)"
   ]
  },
  {
   "cell_type": "code",
   "execution_count": null,
   "metadata": {},
   "outputs": [],
   "source": []
  },
  {
   "cell_type": "markdown",
   "metadata": {},
   "source": [
    "Outro exemplo, validacao da informação de genero."
   ]
  },
  {
   "cell_type": "code",
   "execution_count": 1,
   "metadata": {},
   "outputs": [
    {
     "name": "stdout",
     "output_type": "stream",
     "text": [
      "Digite seu genero (M/F/N): A\n",
      "Digite seu genero (M/F/N): M\n"
     ]
    }
   ],
   "source": [
    "# Opções: M, F, N\n",
    "gen = input('Digite seu genero (M/F/N): ')\n",
    "while gen != 'M' and gen != 'F' and gen != 'N':\n",
    "    gen = input('Digite seu genero (M/F/N): ')\n"
   ]
  },
  {
   "cell_type": "raw",
   "metadata": {},
   "source": [
    "   gen != 'M' and gen != 'F' and gen != 'N'\n",
    "A: True           True           True\n",
    "M: False          True           True"
   ]
  },
  {
   "cell_type": "markdown",
   "metadata": {},
   "source": [
    "## Exercicios:\n",
    "\n",
    "### Validação\n",
    "Faca um programa que leia a nota de um aluno e faça a validação desta entrada. A nota pode ser entre 0 e 10.   "
   ]
  },
  {
   "cell_type": "markdown",
   "metadata": {},
   "source": [
    "### Diga Olá\n",
    "Faça um programa que imprime 3 vezes `Olá!`\n"
   ]
  },
  {
   "cell_type": "markdown",
   "metadata": {},
   "source": [
    "### Multiplos cumprimento "
   ]
  },
  {
   "cell_type": "markdown",
   "metadata": {},
   "source": [
    "Faça um programa que imprima `Olá!` e leia o input do usuario. Caso o usuario digite `Olá` de volta, o programa deve imprimir `Até logo`, caso contrario ele deve seguir dizendo `Olá` e pedindo o input do usuario   "
   ]
  },
  {
   "cell_type": "markdown",
   "metadata": {},
   "source": [
    "### Média \n",
    "Faça um programa que imprima a média de 3 numeros informados pelo usuário. Use `while` loop"
   ]
  },
  {
   "cell_type": "markdown",
   "metadata": {},
   "source": [
    "### Média 2\n",
    "Faça um programa que imprima a média de `n` numeros, sendo `n` e os números informado pelo usuário."
   ]
  },
  {
   "cell_type": "markdown",
   "metadata": {},
   "source": [
    "### Adivinhe o número\n",
    "Faça um programa que sortei um número de 0 a 100 e peça ao usuário para adivinhar. O programa imprime \"Maior\", \"Menor\" caso o usuário tenha errado de modo a ajudá-lo. Após o usuario acertar, o programa imprime o numero de tentativas que ele fez e encerra. "
   ]
  },
  {
   "cell_type": "code",
   "execution_count": 59,
   "metadata": {},
   "outputs": [
    {
     "name": "stdout",
     "output_type": "stream",
     "text": [
      "tentativa50\n",
      "Menor\n",
      "tentativa75\n",
      "Menor\n",
      "tentativa25\n",
      "Menor\n",
      "tentativa12\n",
      "Maior\n",
      "tentativa20\n",
      "Maior\n",
      "tentativa22\n",
      "Menor\n",
      "tentativa21\n",
      "7\n"
     ]
    }
   ],
   "source": [
    "import random\n",
    "numero = random.randint(0, 100)\n",
    "\n",
    "tentativa = int(input('tentativa'))\n",
    "count = 1\n",
    "while tentativa != numero:\n",
    "    if tentativa < numero:\n",
    "        print('Maior')\n",
    "    else: \n",
    "        print('Menor')\n",
    "\n",
    "    tentativa = int(input('tentativa'))\n",
    "    count += 1\n",
    "\n",
    "print(count)"
   ]
  },
  {
   "cell_type": "code",
   "execution_count": 58,
   "metadata": {},
   "outputs": [
    {
     "data": {
      "text/plain": [
       "28"
      ]
     },
     "execution_count": 58,
     "metadata": {},
     "output_type": "execute_result"
    }
   ],
   "source": [
    "count"
   ]
  },
  {
   "cell_type": "markdown",
   "metadata": {},
   "source": [
    "### Viajante\n",
    "Faça um programa que lê o número de km que um viajante percorre a cada dia. Quando a distancia total percorrida ultrapassar 1000km, o programa imprime o número total de dias que o viajante levou e a distância média percorrida por dia. \n",
    "\n",
    "Ex:\n",
    "\n",
    "    Digite a distancia percorrida hoje: 500  \n",
    "    Digite a distancia percorrida hoje: 400  \n",
    "    Digite a distancia percorrida hoje: 300  \n",
    "\n",
    "    Total de dias: 3  \n",
    "    Distancia média por dia: 400  "
   ]
  },
  {
   "cell_type": "markdown",
   "metadata": {},
   "source": [
    "# Listas\n",
    "\n",
    "Imagine que você quer armazenar várias variáveis relacionadas, como, por exemplo, todas suas notas em provas.\n",
    "\n",
    "Se houver muitas notas, não é muito prático criar uma variável para cada uma. Seria muito mais conveniente armazenar todas as notas em uma **lista**, não é mesmo? \n",
    "\n",
    "Em python, temos uma estrutura de dados que é exatamente isso: uma lista! Listas são indicadas por colchete []\n",
    "\n",
    "Uma lista nada mais é que um **conjunto de objetos**, que podem ser de quaisquer tipo"
   ]
  },
  {
   "cell_type": "code",
   "execution_count": null,
   "metadata": {},
   "outputs": [],
   "source": []
  },
  {
   "cell_type": "markdown",
   "metadata": {},
   "source": [
    "Lista de números (int e float)"
   ]
  },
  {
   "cell_type": "code",
   "execution_count": null,
   "metadata": {},
   "outputs": [],
   "source": []
  },
  {
   "cell_type": "markdown",
   "metadata": {},
   "source": [
    "Lista de strings"
   ]
  },
  {
   "cell_type": "code",
   "execution_count": null,
   "metadata": {},
   "outputs": [],
   "source": []
  },
  {
   "cell_type": "markdown",
   "metadata": {},
   "source": [
    "Lista de números e strings\n"
   ]
  },
  {
   "cell_type": "code",
   "execution_count": null,
   "metadata": {},
   "outputs": [],
   "source": []
  },
  {
   "cell_type": "markdown",
   "metadata": {},
   "source": [
    "Lista de listas\n"
   ]
  },
  {
   "cell_type": "code",
   "execution_count": null,
   "metadata": {},
   "outputs": [],
   "source": []
  },
  {
   "cell_type": "markdown",
   "metadata": {},
   "source": [
    "Muitas vezes, queremos **acessar elementos individuais** da lista. \n",
    "\n",
    "Para fazer isso, devemos indicar qual é o **índice** respectivo ao elemento, isto é, qual é a **posição** do elemento dentro da lista\n",
    "\n",
    "Para acessar o elemento na **posição i** da lista \"minha_lista\", fazemos:\n",
    "\n",
    "```python\n",
    "minha_lista[i]\n",
    "```\n",
    "\n",
    "__MUITO IMPORTANTE: a numeração de índice começa em zero!__\n",
    "\n",
    "Ou seja:\n",
    "\n",
    "- O primeiro elemento tem índice 0: ```minha_lista[0]``` ,\n",
    "- O segundo tem índice 1: ```minha_lista[1]```,\n",
    "\n",
    "E assim por diante!\n",
    "\n",
    "Também podemos acessar os últimos elementos, usando índices negativos:\n",
    "\n",
    "- O último elemento tem índice -1: ```minha_lista[-1]```,\n",
    "- O penúltimo tem índice -2: ```minha_lista[-2]```,\n",
    "\n",
    "E assim por diante!"
   ]
  },
  {
   "cell_type": "code",
   "execution_count": null,
   "metadata": {},
   "outputs": [],
   "source": []
  },
  {
   "cell_type": "markdown",
   "metadata": {},
   "source": [
    "Também podemos **acessar pedaços da lista**, indicando o intervalo de índices que queremos, separados por \":\",  **com intervalo superior aberto**:\n",
    "\n",
    "- ```minha_lista[1:3]```: seleciona os elementos de indice 1 até indice 2\n",
    "- ```minha_lista[:4]```: seleciona do primeiro elemento até o de índice 3\n",
    "- ```minha_lista[3:]```: seleciona do elemento de índice 3 até o final\n",
    "- ```minha_lista[:]```: seleciona a lista inteira\n",
    "\n",
    "Este conceito é chamado de \"slicing\", pois você está pegando \"fatias\" da lista!"
   ]
  },
  {
   "cell_type": "code",
   "execution_count": null,
   "metadata": {},
   "outputs": [],
   "source": []
  },
  {
   "cell_type": "markdown",
   "metadata": {},
   "source": [
    "Podemos também especificar em passo para os elementos que pegamos. Por exemplo:\n",
    "- `minha_lista[1:6:2]`: seleciona os elementos do indice 1 ao 5 pulando de dois em dois. Note que ele comeca a selecionar do 1 e vai pulando de dois em dois até o indice ser maior ou igual a 6. Ele não considera essa ultima posição na seleção \n",
    "\n",
    "_"
   ]
  },
  {
   "cell_type": "code",
   "execution_count": null,
   "metadata": {},
   "outputs": [],
   "source": []
  },
  {
   "cell_type": "markdown",
   "metadata": {},
   "source": [
    "Podemos também fazer algumas **operações com listas**"
   ]
  },
  {
   "cell_type": "markdown",
   "metadata": {},
   "source": [
    "Soma de listas: ao **somar listas**, os elementos são **concatenados**, na ordem dada, para formar uma lista maior:"
   ]
  },
  {
   "cell_type": "code",
   "execution_count": null,
   "metadata": {},
   "outputs": [],
   "source": []
  },
  {
   "cell_type": "markdown",
   "metadata": {},
   "source": [
    "Ao **multiplicar listas por um inteiro**, os elementos são repetidos, na ordem que aparecem:"
   ]
  },
  {
   "cell_type": "code",
   "execution_count": null,
   "metadata": {},
   "outputs": [],
   "source": []
  },
  {
   "cell_type": "markdown",
   "metadata": {},
   "source": [
    "Se quisermos somar os elementos de duas listas, ou multiplicá-los por algum número, temos que usar um **laço**"
   ]
  },
  {
   "cell_type": "markdown",
   "metadata": {},
   "source": [
    "Listas também podem ser comparadas com == e !=. Listas serão iguais de tiverem todos os elementos iguais. \n",
    "\n",
    "Obs: Note que nesse caso as operações de igualdade entre os valores em posições correspondente nas listas devem existir"
   ]
  },
  {
   "cell_type": "code",
   "execution_count": null,
   "metadata": {},
   "outputs": [],
   "source": []
  },
  {
   "cell_type": "markdown",
   "metadata": {},
   "source": [
    "Listas também podem ser comparadas com > >= < <=, contanto que as posições equivalentes nas listas possam ser comparadas com o operador em questão. Da mesma forma que em strings, a ordem das listas é definida pela ordem do primeiro elemento diferente"
   ]
  },
  {
   "cell_type": "code",
   "execution_count": null,
   "metadata": {},
   "outputs": [],
   "source": []
  },
  {
   "cell_type": "markdown",
   "metadata": {},
   "source": [
    "## Exercicio\n",
    "Dada a lista a seguir:\n",
    "```python\n",
    "lista = [5, 6, 7, 8, 9]\n",
    "```\n",
    "\n",
    "Obtenha usando indexação e slicing somente seguintes valores:\n",
    "- o número 8 da lista\n",
    "- os números pares\n",
    "- uma lista com os numeros 8 e 9 \n",
    "- o último elemento da lista\n",
    "- a mesma lista em ordem inversa"
   ]
  },
  {
   "cell_type": "markdown",
   "metadata": {},
   "source": [
    "## Manipulação de listas"
   ]
  },
  {
   "cell_type": "markdown",
   "metadata": {},
   "source": [
    "#### lista[idx] = el\n",
    "Modifica o valor numa posição na lista"
   ]
  },
  {
   "cell_type": "markdown",
   "metadata": {},
   "source": [
    "#### list(obj)\n",
    "Converte objeto em lista"
   ]
  },
  {
   "cell_type": "markdown",
   "metadata": {},
   "source": [
    "#### .append(el)\n",
    "Adiciona um elemento ao fim da lista"
   ]
  },
  {
   "cell_type": "markdown",
   "metadata": {},
   "source": [
    "#### el in lista (Operador in)\n",
    "Verifica se o elemento está na lista "
   ]
  },
  {
   "cell_type": "markdown",
   "metadata": {},
   "source": [
    "#### sorted(lista)\n",
    "Ordena a lista\n",
    "\n",
    "**OBS: essa função só funciona para listas com dados que tenham o > e < definidos entre si!**"
   ]
  },
  {
   "cell_type": "markdown",
   "metadata": {},
   "source": [
    "#### .sort()\n",
    "Ordena a lista"
   ]
  },
  {
   "cell_type": "markdown",
   "metadata": {},
   "source": [
    "#### .index(el)\n",
    "Primeira aparição do elemento na lista"
   ]
  },
  {
   "cell_type": "markdown",
   "metadata": {},
   "source": [
    "#### max(lista)\n",
    "Maior valor na lista"
   ]
  },
  {
   "cell_type": "markdown",
   "metadata": {},
   "source": [
    "#### min(lista)\n",
    "Menor valor na lista"
   ]
  },
  {
   "cell_type": "markdown",
   "metadata": {},
   "source": [
    "#### len(lista)\n",
    "Tamanho da lista"
   ]
  },
  {
   "cell_type": "markdown",
   "metadata": {},
   "source": [
    "#### sum(lista)\n",
    "Soma dos elementos da lista de numeros"
   ]
  },
  {
   "cell_type": "markdown",
   "metadata": {},
   "source": [
    "### Exercicio\n",
    "Execute os seguintes passos:\n",
    "1. Crie uma lista com as letras de 'a' a 'z' em ordem alfabetica\n",
    "2. Insira o valor 'bola' na posição 1 da sua lista\n",
    "3. Imprima o valor na posição 12\n",
    "4. Substitua o valor na posição 12 pela string '12'\n",
    "5. Selecione os valores da posição 1 a posição 20, com passo 5.\n",
    "6. Selecione os valores da posição 0 a posição 20, com passo 2.\n",
    "7. Junte os resultados dos passos 5 e 6 em uma unica lista\n",
    "8. Ordene a lista do passo 7\n",
    "9. Inverta a ordem da lista do passo 8\n"
   ]
  },
  {
   "cell_type": "code",
   "execution_count": 19,
   "metadata": {},
   "outputs": [
    {
     "data": {
      "text/plain": [
       "'abcdefghijklmnopqrstuvwxyz'"
      ]
     },
     "execution_count": 19,
     "metadata": {},
     "output_type": "execute_result"
    }
   ],
   "source": [
    "import string\n",
    "string.ascii_lowercase"
   ]
  }
 ],
 "metadata": {
  "kernelspec": {
   "display_name": "Python 3",
   "language": "python",
   "name": "python3"
  },
  "language_info": {
   "codemirror_mode": {
    "name": "ipython",
    "version": 3
   },
   "file_extension": ".py",
   "mimetype": "text/x-python",
   "name": "python",
   "nbconvert_exporter": "python",
   "pygments_lexer": "ipython3",
   "version": "3.8.3"
  }
 },
 "nbformat": 4,
 "nbformat_minor": 4
}
