{
 "cells": [
  {
   "cell_type": "markdown",
   "metadata": {},
   "source": [
    "# Aula 3 - comentarios, while e listas"
   ]
  },
  {
   "cell_type": "markdown",
   "metadata": {},
   "source": [
    "## Nota sobre comparações entre floats\n"
   ]
  },
  {
   "cell_type": "code",
   "execution_count": null,
   "metadata": {},
   "outputs": [],
   "source": [
    "15 = 1.5 * 10 ** 1 \n",
    "150 = 1.5 * 10 ** 2 "
   ]
  },
  {
   "cell_type": "code",
   "execution_count": 19,
   "metadata": {},
   "outputs": [
    {
     "data": {
      "text/plain": [
       "True"
      ]
     },
     "execution_count": 19,
     "metadata": {},
     "output_type": "execute_result"
    }
   ],
   "source": [
    "peso = 90\n",
    "abs(peso * 1.1 - 99) < 1e-8"
   ]
  },
  {
   "cell_type": "markdown",
   "metadata": {},
   "source": [
    "## Esclarecimentos das dúvidas da última aula\n",
    "\n",
    "- Codigo legivel vs código mais rapido\n",
    "- Qualquer expressão que produza um booleano (ou que seja avaliavel como booleano) pode ser utilizada como condição no if\n",
    "- O computador só executa o que você escreve\n",
    "- Dentro do bloco do if eu posso colocar qualquer quantidade de código, inclusive outros if's "
   ]
  },
  {
   "cell_type": "code",
   "execution_count": null,
   "metadata": {},
   "outputs": [],
   "source": [
    "a = 1\n",
    "if a == 1:\n",
    "    b = 10\n",
    "    c = input()\n",
    "    print(b, c)\n",
    "    if b ==0:\n",
    "        while"
   ]
  },
  {
   "cell_type": "code",
   "execution_count": 22,
   "metadata": {},
   "outputs": [
    {
     "name": "stdout",
     "output_type": "stream",
     "text": [
      "10\n"
     ]
    }
   ],
   "source": [
    "a = 10\n",
    "if a != 0:\n",
    "    print(a)"
   ]
  },
  {
   "cell_type": "markdown",
   "metadata": {},
   "source": [
    "### Pergunta\n",
    "```python\n",
    "num1 = 10\n",
    "num2 = num1\n",
    "num1 = 20\n",
    "num2 = ?\n",
    "```"
   ]
  },
  {
   "cell_type": "code",
   "execution_count": 26,
   "metadata": {},
   "outputs": [
    {
     "data": {
      "text/plain": [
       "(20, 10)"
      ]
     },
     "execution_count": 26,
     "metadata": {},
     "output_type": "execute_result"
    }
   ],
   "source": [
    "num1 = 10\n",
    "num2 = num1\n",
    "num1 = 20\n",
    "\n",
    "num1, num2"
   ]
  },
  {
   "cell_type": "markdown",
   "metadata": {},
   "source": [
    "### Execução manual do código. Exemplo.\n",
    "Executar na mão o código:\n",
    "\n",
    "```python\n",
    "a = 10\n",
    "b = 30\n",
    "k = 'a'\n",
    "\n",
    "if k == a:\n",
    "    print('entrou')\n",
    "```  "
   ]
  },
  {
   "cell_type": "markdown",
   "metadata": {},
   "source": [
    "a     b    k\n",
    "10\n",
    "10    30   \n",
    "10    30   'a'\n",
    "\n"
   ]
  },
  {
   "cell_type": "code",
   "execution_count": 27,
   "metadata": {},
   "outputs": [],
   "source": [
    "a = 10\n",
    "b = 30\n",
    "k = 'a'\n",
    "\n",
    "if k == a:\n",
    "    print('entrou')"
   ]
  },
  {
   "cell_type": "markdown",
   "metadata": {},
   "source": [
    "# Comentários\n",
    "\n",
    "São utilizados para melhor explicar um trecho de código.\n",
    "\n",
    "Os comentários não são executados pelo Python. \n",
    "\n",
    "Tudo o que está comentado é ignorado, serve apenas para guiar quem está lendo/escrevendo o código\n",
    "\n",
    "É indicado com o uso da #, e em cor azul marinho no Jupyter\n",
    "\n",
    "- Atalho: CTRL + / : A LINHA VIRA UM COMENTÁRIO"
   ]
  },
  {
   "cell_type": "code",
   "execution_count": 33,
   "metadata": {},
   "outputs": [
    {
     "name": "stdout",
     "output_type": "stream",
     "text": [
      "bla\n"
     ]
    }
   ],
   "source": [
    "# imprime bla\n",
    "print('bla') "
   ]
  },
  {
   "cell_type": "markdown",
   "metadata": {},
   "source": [
    "Também é possível fazer comentários de várias linhas utilizando strings de multiplas linhas. "
   ]
  },
  {
   "cell_type": "code",
   "execution_count": 38,
   "metadata": {},
   "outputs": [
    {
     "name": "stdout",
     "output_type": "stream",
     "text": [
      "hello\n"
     ]
    }
   ],
   "source": [
    "10\n",
    "'bla'\n",
    "print('hello')\n",
    "# daosdiasodi"
   ]
  },
  {
   "cell_type": "code",
   "execution_count": 34,
   "metadata": {},
   "outputs": [
    {
     "data": {
      "text/plain": [
       "' \\ndaosdnoasndoasnd aosndasnodknasodnasodn naodsndoiasn\\ndoansdoasndnoasdn\\ndoaskndoaksnd \\n'"
      ]
     },
     "execution_count": 34,
     "metadata": {},
     "output_type": "execute_result"
    }
   ],
   "source": [
    "''' \n",
    "daosdnoasndoasnd aosndasnodknasodnasodn naodsndoiasn\n",
    "doansdoasndnoasdn\n",
    "doaskndoaksnd \n",
    "'''"
   ]
  },
  {
   "cell_type": "markdown",
   "metadata": {},
   "source": [
    "Em geral, usamos essas string em comentarios em locais especificos do código, como logo no inicio do arquivo ou após a definição de uma função ou de uma classe. Comentários gerais devem ser feitos com a #"
   ]
  },
  {
   "cell_type": "markdown",
   "metadata": {},
   "source": [
    "# Laços de repetição (while)\n",
    "\n",
    "Uma das utilidades de linguagens de programação é a de automatizar tarefas que são repetitivas.\n",
    "\n",
    "Mas, pra isso ser viável, seria bom se tivéssemos uma estrutura para **repetir comandos**, não é mesmo?\n",
    "\n",
    "Imagine que eu queira exibir na tela \"Olá, mundo!\" 5 vezes. Podemos fazer:"
   ]
  },
  {
   "cell_type": "code",
   "execution_count": 40,
   "metadata": {},
   "outputs": [
    {
     "name": "stdout",
     "output_type": "stream",
     "text": [
      "Olá mundo!\n",
      "Olá mundo!\n",
      "Olá mundo!\n",
      "Olá mundo!\n",
      "Olá mundo!\n"
     ]
    }
   ],
   "source": [
    "print('Olá mundo!')\n",
    "print('Olá mundo!')\n",
    "print('Olá mundo!')\n",
    "print('Olá mundo!')\n",
    "print('Olá mundo!')"
   ]
  },
  {
   "cell_type": "markdown",
   "metadata": {},
   "source": [
    "Mas, e se eu quiser exibir essa mensagem 1000 vezes? Ou 1 milhão de vezes? Não é ideal escrevermos o mesmo pedaço de código tantas vezes, né?\n",
    "\n",
    "Para isso, existem os **laços de repetição**, que permitem repetir pedaços de código quantas vezes desejarmos!\n",
    "\n",
    "O primeiro laço que vamos ver é o **while**. Este laço tem a seguinte estrutura:\n",
    "\n",
    "```python\n",
    "while (condicao é True):\n",
    "    operacao_repetida\n",
    "```\n",
    "\n",
    "Ou seja, o que tá no bloco do while é repetido **enquanto a condição for verdadeira**\n",
    "\n",
    "Para controlar o número de vezes que o while é executado, temos que lembrar da **atualização da condição** a cada iteração do laço!\n",
    "\n",
    "Isso é, temos que **atualizar** a variavel que contabiliza as repetições no loop"
   ]
  },
  {
   "cell_type": "code",
   "execution_count": 43,
   "metadata": {},
   "outputs": [],
   "source": [
    "idade = 0"
   ]
  },
  {
   "cell_type": "code",
   "execution_count": 44,
   "metadata": {},
   "outputs": [
    {
     "name": "stdout",
     "output_type": "stream",
     "text": [
      "1\n"
     ]
    }
   ],
   "source": [
    "# atualizando o valor da variavel\n",
    "idade = idade + 1\n",
    "idade += 1\n",
    "print(idade)"
   ]
  },
  {
   "cell_type": "code",
   "execution_count": 50,
   "metadata": {},
   "outputs": [
    {
     "name": "stdout",
     "output_type": "stream",
     "text": [
      "5\n",
      "5\n"
     ]
    }
   ],
   "source": [
    "idade = 10\n",
    "idade = idade // 2\n",
    "print(idade)\n",
    "\n",
    "idade = 10\n",
    "idade //= 2\n",
    "print(idade)"
   ]
  },
  {
   "cell_type": "markdown",
   "metadata": {},
   "source": [
    "Assim, o que fazemos é **definir a condição do while em termos de uma variável que tenha seu valor atualizado!**\n",
    "\n",
    "Para isso, é comum nos referirmos à variàvel da condição como **variável contadora**.\n",
    "\n",
    "Para atualizar a variável contadora dentro do while, em geral a atualizamos em +1\n",
    "\n",
    "_"
   ]
  },
  {
   "cell_type": "code",
   "execution_count": 1,
   "metadata": {},
   "outputs": [
    {
     "name": "stdout",
     "output_type": "stream",
     "text": [
      "Olá mundo!\n",
      "Olá mundo!\n",
      "Olá mundo!\n",
      "Olá mundo!\n",
      "Olá mundo!\n"
     ]
    }
   ],
   "source": [
    "cont = 0\n",
    "while cont < 5:\n",
    "    print('Olá mundo!')\n",
    "    cont += 1"
   ]
  },
  {
   "cell_type": "markdown",
   "metadata": {},
   "source": [
    "Vamos entender um pouco melhor como a variável contadora se comporta?\n",
    "\n",
    "Pra isso, basta exibi-la a cada iteração:"
   ]
  },
  {
   "cell_type": "code",
   "execution_count": 2,
   "metadata": {},
   "outputs": [
    {
     "name": "stdout",
     "output_type": "stream",
     "text": [
      "Olá mundo! cont= 0\n",
      "Olá mundo! cont= 2\n",
      "Olá mundo! cont= 4\n"
     ]
    }
   ],
   "source": [
    "cont = 0\n",
    "while cont < 5:\n",
    "    print('Olá mundo! cont=', cont)\n",
    "    cont += 1\n",
    "    cont += 1\n",
    "    "
   ]
  },
  {
   "cell_type": "markdown",
   "metadata": {},
   "source": [
    "O código acima equivale a:\n"
   ]
  },
  {
   "cell_type": "code",
   "execution_count": 57,
   "metadata": {},
   "outputs": [
    {
     "name": "stdout",
     "output_type": "stream",
     "text": [
      "Olá mundo! cont= 0\n",
      "Olá mundo! cont= 1\n",
      "Olá mundo! cont= 2\n",
      "Olá mundo! cont= 3\n",
      "Olá mundo! cont= 4\n"
     ]
    }
   ],
   "source": [
    "cont = 0\n",
    "\n",
    "print('Olá mundo! cont=', cont)\n",
    "cont += 1\n",
    "\n",
    "print('Olá mundo! cont=', cont)\n",
    "cont += 1\n",
    "\n",
    "print('Olá mundo! cont=', cont)\n",
    "cont += 1\n",
    "\n",
    "print('Olá mundo! cont=', cont)\n",
    "cont += 1\n",
    "\n",
    "print('Olá mundo! cont=', cont)\n",
    "cont += 1\n"
   ]
  },
  {
   "cell_type": "markdown",
   "metadata": {},
   "source": [
    "Usar a condição com < ao invés de != em geral garante maior segurança ao seu algoritmo, pois evita imprevistos caso você receba números do usuário!\n",
    "\n",
    "Podemos também atualizar a condição de repetição para validar a entrada do usuário\n",
    "\n",
    "\n",
    "Esse uso é bem importante para **garantir que o usuário digitou corretamente o que foi solicitado**\n",
    "\n",
    "Por exemplo, vamos pedir pro usuário digitar um número maior que 10. **Enquanto ele não fizer o que queremos**, vamos continuar pedindo pra ele digitar um novo valor:"
   ]
  },
  {
   "cell_type": "code",
   "execution_count": 3,
   "metadata": {},
   "outputs": [
    {
     "name": "stdout",
     "output_type": "stream",
     "text": [
      "Digite um numero maior que 10:0\n",
      "Digite um numero maior que 10:2\n",
      "Digite um numero maior que 10:11\n"
     ]
    }
   ],
   "source": [
    "num = float(input('Digite um numero maior que 10:'))\n",
    "while num <= 10:\n",
    "    num = float(input('Digite um numero maior que 10:'))"
   ]
  },
  {
   "cell_type": "markdown",
   "metadata": {},
   "source": [
    "Outro exemplo, onde pedirmos pro usuário digitar sua nota (para ser um valor válido, tem que estar entre 0 e 10!)"
   ]
  },
  {
   "cell_type": "code",
   "execution_count": null,
   "metadata": {},
   "outputs": [],
   "source": []
  },
  {
   "cell_type": "markdown",
   "metadata": {},
   "source": [
    "Outro exemplo, validacao da informação de genero."
   ]
  },
  {
   "cell_type": "code",
   "execution_count": 1,
   "metadata": {},
   "outputs": [
    {
     "name": "stdout",
     "output_type": "stream",
     "text": [
      "Digite seu genero (M/F/N): A\n",
      "Digite seu genero (M/F/N): M\n"
     ]
    }
   ],
   "source": [
    "# Opções: M, F, N\n",
    "gen = input('Digite seu genero (M/F/N): ')\n",
    "while gen != 'M' and gen != 'F' and gen != 'N':\n",
    "    gen = input('Digite seu genero (M/F/N): ')\n"
   ]
  },
  {
   "cell_type": "raw",
   "metadata": {},
   "source": [
    "   gen != 'M' and gen != 'F' and gen != 'N'\n",
    "A: True           True           True\n",
    "M: False          True           True"
   ]
  },
  {
   "cell_type": "markdown",
   "metadata": {},
   "source": [
    "## Exercicios:\n",
    "\n",
    "### Validação\n",
    "Faca um programa que leia a nota de um aluno e faça a validação desta entrada. A nota pode ser entre 0 e 10.   "
   ]
  },
  {
   "cell_type": "code",
   "execution_count": 4,
   "metadata": {},
   "outputs": [
    {
     "name": "stdout",
     "output_type": "stream",
     "text": [
      "Digite uma nota:-1\n",
      "Digite uma nota:11\n",
      "Digite uma nota:10\n"
     ]
    }
   ],
   "source": [
    "nota = float(input('Digite uma nota:'))\n",
    "while nota < 0 or nota > 10:\n",
    "    nota = float(input('Digite uma nota:'))"
   ]
  },
  {
   "cell_type": "markdown",
   "metadata": {},
   "source": [
    "### Diga Olá\n",
    "Faça um programa que imprime 3 vezes `Olá!`\n"
   ]
  },
  {
   "cell_type": "code",
   "execution_count": 6,
   "metadata": {},
   "outputs": [
    {
     "name": "stdout",
     "output_type": "stream",
     "text": [
      "Olá!\n",
      "Olá!\n",
      "Olá!\n"
     ]
    }
   ],
   "source": [
    "i = 0\n",
    "while i < 3:\n",
    "    print('Olá!')\n",
    "    i += 1"
   ]
  },
  {
   "cell_type": "markdown",
   "metadata": {},
   "source": [
    "### Multiplos cumprimento "
   ]
  },
  {
   "cell_type": "markdown",
   "metadata": {},
   "source": [
    "Faça um programa que imprima `Olá!` e leia o input do usuario. Caso o usuario digite `Olá` de volta, o programa deve imprimir `Até logo`, caso contrario ele deve seguir dizendo `Olá` e pedindo o input do usuario   "
   ]
  },
  {
   "cell_type": "code",
   "execution_count": 8,
   "metadata": {},
   "outputs": [
    {
     "name": "stdout",
     "output_type": "stream",
     "text": [
      "Olá!Olá\n",
      "Até logo\n"
     ]
    }
   ],
   "source": [
    "print('Olá!')\n",
    "resp = input()\n",
    "while resp != 'Olá':\n",
    "    print('Olá!')\n",
    "    resp = input()\n",
    "print('Até logo')"
   ]
  },
  {
   "cell_type": "markdown",
   "metadata": {},
   "source": [
    "### Média \n",
    "Faça um programa que imprima a média de 3 numeros informados pelo usuário. Use `while` loop"
   ]
  },
  {
   "cell_type": "code",
   "execution_count": 10,
   "metadata": {},
   "outputs": [
    {
     "name": "stdout",
     "output_type": "stream",
     "text": [
      "Digite o numero: 10\n",
      "Digite o numero: 10\n",
      "Digite o numero: 20\n",
      "Media: 13.333333333333334\n"
     ]
    }
   ],
   "source": [
    "i = 0\n",
    "total = 0 \n",
    "while i < 3:\n",
    "    total += float(input('Digite o numero: '))\n",
    "    i += 1\n",
    "print('Media:', total/3)"
   ]
  },
  {
   "cell_type": "markdown",
   "metadata": {},
   "source": [
    "### Média 2\n",
    "Faça um programa que imprima a média de `n` numeros, sendo `n` e os números informado pelo usuário."
   ]
  },
  {
   "cell_type": "code",
   "execution_count": 11,
   "metadata": {},
   "outputs": [
    {
     "name": "stdout",
     "output_type": "stream",
     "text": [
      "Quantos numeros serão? 3\n",
      "Digite o numero: 10\n",
      "Digite o numero: 10\n",
      "Digite o numero: 20\n",
      "Media: 13.333333333333334\n"
     ]
    }
   ],
   "source": [
    "number_of_items = int(input('Quantos numeros serão? '))\n",
    "\n",
    "i = 0\n",
    "total = 0 \n",
    "while i < number_of_items:\n",
    "    total += float(input('Digite o numero: '))\n",
    "    i += 1\n",
    "print('Media:', total/number_of_items)"
   ]
  },
  {
   "cell_type": "markdown",
   "metadata": {},
   "source": [
    "### Adivinhe o número\n",
    "Faça um programa que sortei um número de 0 a 100 e peça ao usuário para adivinhar. O programa imprime \"Maior\", \"Menor\" caso o usuário tenha errado de modo a ajudá-lo. Após o usuario acertar, o programa imprime o numero de tentativas que ele fez e encerra. "
   ]
  },
  {
   "cell_type": "code",
   "execution_count": 12,
   "metadata": {},
   "outputs": [
    {
     "name": "stdout",
     "output_type": "stream",
     "text": [
      "Adivinhe um número de 0 a 100\n",
      "Tentativa: 50\n",
      "Maior!\n",
      "Tentativa:25\n",
      "Maior!\n",
      "Tentativa:75\n",
      "Menor!\n",
      "Tentativa:65\n",
      "Maior!\n",
      "Tentativa:70\n",
      "Maior!\n",
      "Tentativa:12\n",
      "Maior!\n",
      "Tentativa:72\n",
      "Maior!\n",
      "Tentativa:73\n",
      "8\n"
     ]
    }
   ],
   "source": [
    "import random\n",
    "numero = random.randint(0, 100)\n",
    "\n",
    "print('Adivinhe um número de 0 a 100')\n",
    "tentativa = int(input('Tentativa: '))\n",
    "count = 1\n",
    "while tentativa != numero:\n",
    "    if tentativa < numero:\n",
    "        print('Maior!')\n",
    "    else: \n",
    "        print('Menor!')\n",
    "\n",
    "    tentativa = int(input('Tentativa:'))\n",
    "    count += 1\n",
    "\n",
    "print(count)"
   ]
  },
  {
   "cell_type": "markdown",
   "metadata": {},
   "source": [
    "### Viajante\n",
    "Faça um programa que lê o número de km que um viajante percorre a cada dia. Quando a distancia total percorrida ultrapassar 1000km, o programa imprime o número total de dias que o viajante levou e a distância média percorrida por dia. \n",
    "\n",
    "Ex:\n",
    "\n",
    "    Digite a distancia percorrida hoje: 500  \n",
    "    Digite a distancia percorrida hoje: 400  \n",
    "    Digite a distancia percorrida hoje: 300  \n",
    "\n",
    "    Total de dias: 3  \n",
    "    Distancia média por dia: 400  "
   ]
  },
  {
   "cell_type": "code",
   "execution_count": 13,
   "metadata": {},
   "outputs": [
    {
     "name": "stdout",
     "output_type": "stream",
     "text": [
      "Digite a distancia percorrida hoje:500\n",
      "Digite a distancia percorrida hoje:400\n",
      "Digite a distancia percorrida hoje:300\n",
      "Total de dias: 3\n",
      "Distancia média por dia: 400.0\n"
     ]
    }
   ],
   "source": [
    "total = 0\n",
    "dias = 0\n",
    "while total <= 1000:\n",
    "    total += float(input('Digite a distancia percorrida hoje:'))\n",
    "    dias += 1\n",
    "    \n",
    "print('Total de dias:', dias)\n",
    "print('Distancia média por dia:', total/dias)"
   ]
  }
 ],
 "metadata": {
  "kernelspec": {
   "display_name": "Python 3",
   "language": "python",
   "name": "python3"
  },
  "language_info": {
   "codemirror_mode": {
    "name": "ipython",
    "version": 3
   },
   "file_extension": ".py",
   "mimetype": "text/x-python",
   "name": "python",
   "nbconvert_exporter": "python",
   "pygments_lexer": "ipython3",
   "version": "3.8.3"
  }
 },
 "nbformat": 4,
 "nbformat_minor": 4
}
