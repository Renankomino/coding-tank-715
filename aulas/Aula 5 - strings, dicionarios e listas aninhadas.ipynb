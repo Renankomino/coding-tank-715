{
 "cells": [
  {
   "cell_type": "markdown",
   "metadata": {},
   "source": [
    "# Aula 5- strings, dicionarios e listas encadeadas\n"
   ]
  },
  {
   "cell_type": "markdown",
   "metadata": {},
   "source": [
    "____\n",
    "____\n",
    "____"
   ]
  },
  {
   "cell_type": "markdown",
   "metadata": {},
   "source": [
    "## 1) Strings\n",
    "\n",
    "Desde a primeira aula, temos trabalhado com strings, que, como vimos, representam **dados textuais**\n"
   ]
  },
  {
   "cell_type": "markdown",
   "metadata": {},
   "source": [
    "Uma string nada mais é do que uma **sequencia de caracteres**!\n",
    "\n",
    "Assim, podemos acessar caracteres específicos ou então um intervalo de caracteres de uma string, como se fosse uma lista!\n",
    "\n",
    "**OBS.: Para strings também, o índice começa em 0, e podemos usar índices negativos!**"
   ]
  },
  {
   "cell_type": "code",
   "execution_count": 1,
   "metadata": {},
   "outputs": [
    {
     "data": {
      "text/plain": [
       "'Vinicius'"
      ]
     },
     "execution_count": 1,
     "metadata": {},
     "output_type": "execute_result"
    }
   ],
   "source": [
    "nome = 'Vinicius'\n",
    "nome"
   ]
  },
  {
   "cell_type": "code",
   "execution_count": 4,
   "metadata": {},
   "outputs": [
    {
     "data": {
      "text/plain": [
       "'V'"
      ]
     },
     "execution_count": 4,
     "metadata": {},
     "output_type": "execute_result"
    }
   ],
   "source": [
    "nome[0]"
   ]
  },
  {
   "cell_type": "code",
   "execution_count": 3,
   "metadata": {},
   "outputs": [
    {
     "data": {
      "text/plain": [
       "'Vini'"
      ]
     },
     "execution_count": 3,
     "metadata": {},
     "output_type": "execute_result"
    }
   ],
   "source": [
    "nome[:4]"
   ]
  },
  {
   "cell_type": "code",
   "execution_count": 5,
   "metadata": {},
   "outputs": [
    {
     "data": {
      "text/plain": [
       "'s'"
      ]
     },
     "execution_count": 5,
     "metadata": {},
     "output_type": "execute_result"
    }
   ],
   "source": [
    "nome[-1]"
   ]
  },
  {
   "cell_type": "code",
   "execution_count": 6,
   "metadata": {},
   "outputs": [
    {
     "data": {
      "text/plain": [
       "'suiciniV'"
      ]
     },
     "execution_count": 6,
     "metadata": {},
     "output_type": "execute_result"
    }
   ],
   "source": [
    "nome[::-1]"
   ]
  },
  {
   "cell_type": "markdown",
   "metadata": {},
   "source": [
    "Para saber o comprimento de uma string (quantos caracteres ela tem, incluindo espaços e pontuações), use a função len():"
   ]
  },
  {
   "cell_type": "code",
   "execution_count": 7,
   "metadata": {},
   "outputs": [
    {
     "data": {
      "text/plain": [
       "8"
      ]
     },
     "execution_count": 7,
     "metadata": {},
     "output_type": "execute_result"
    }
   ],
   "source": [
    "len(nome)"
   ]
  },
  {
   "cell_type": "markdown",
   "metadata": {},
   "source": [
    "Podemos também percorrer cada caractere da string com o `for` -- strings são objetos **iteráveis**:"
   ]
  },
  {
   "cell_type": "code",
   "execution_count": 8,
   "metadata": {},
   "outputs": [
    {
     "name": "stdout",
     "output_type": "stream",
     "text": [
      "V\n",
      "i\n",
      "n\n",
      "i\n",
      "c\n",
      "i\n",
      "u\n",
      "s\n"
     ]
    }
   ],
   "source": [
    "for ch in nome:\n",
    "    print(ch)"
   ]
  },
  {
   "cell_type": "markdown",
   "metadata": {},
   "source": [
    "Apesar de se parecer com uma lista, a string não tem exatamente as propriedades de uma lista. Por exemplo, **não podemos alterar** caracteres individualmente:"
   ]
  },
  {
   "cell_type": "code",
   "execution_count": 10,
   "metadata": {},
   "outputs": [
    {
     "ename": "TypeError",
     "evalue": "'str' object does not support item assignment",
     "output_type": "error",
     "traceback": [
      "\u001b[0;31m---------------------------------------------------------------------------\u001b[0m",
      "\u001b[0;31mTypeError\u001b[0m                                 Traceback (most recent call last)",
      "\u001b[0;32m<ipython-input-10-84ec824a9fe0>\u001b[0m in \u001b[0;36m<module>\u001b[0;34m\u001b[0m\n\u001b[0;32m----> 1\u001b[0;31m \u001b[0mnome\u001b[0m\u001b[0;34m[\u001b[0m\u001b[0;36m0\u001b[0m\u001b[0;34m]\u001b[0m \u001b[0;34m=\u001b[0m \u001b[0;34m'B'\u001b[0m\u001b[0;34m\u001b[0m\u001b[0;34m\u001b[0m\u001b[0m\n\u001b[0m",
      "\u001b[0;31mTypeError\u001b[0m: 'str' object does not support item assignment"
     ]
    }
   ],
   "source": [
    "nome[0] = 'B'"
   ]
  },
  {
   "cell_type": "markdown",
   "metadata": {},
   "source": [
    "Podemos fazer **operações com strings**. Elas funcionam como nas listas."
   ]
  },
  {
   "cell_type": "markdown",
   "metadata": {},
   "source": [
    "Soma de strings: ao somar duas strings, elas são concatenadas:"
   ]
  },
  {
   "cell_type": "code",
   "execution_count": 11,
   "metadata": {},
   "outputs": [
    {
     "data": {
      "text/plain": [
       "'Carmo'"
      ]
     },
     "execution_count": 11,
     "metadata": {},
     "output_type": "execute_result"
    }
   ],
   "source": [
    "sobrenome = 'Carmo'\n",
    "sobrenome"
   ]
  },
  {
   "cell_type": "code",
   "execution_count": 14,
   "metadata": {},
   "outputs": [
    {
     "data": {
      "text/plain": [
       "'Vinicius Carmo'"
      ]
     },
     "execution_count": 14,
     "metadata": {},
     "output_type": "execute_result"
    }
   ],
   "source": [
    "nome_completo = nome + ' ' + sobrenome\n",
    "nome_completo"
   ]
  },
  {
   "cell_type": "markdown",
   "metadata": {},
   "source": [
    "Multiplicação de string por inteiro: ao multiplicar uma string por um número inteiro, a string é repetida:"
   ]
  },
  {
   "cell_type": "code",
   "execution_count": 15,
   "metadata": {},
   "outputs": [
    {
     "data": {
      "text/plain": [
       "'ViniciusViniciusVinicius'"
      ]
     },
     "execution_count": 15,
     "metadata": {},
     "output_type": "execute_result"
    }
   ],
   "source": [
    "nome * 3"
   ]
  },
  {
   "cell_type": "markdown",
   "metadata": {},
   "source": [
    "__________\n",
    "__________\n",
    "__________"
   ]
  },
  {
   "cell_type": "markdown",
   "metadata": {},
   "source": [
    "## 2) Funções de strings\n",
    "\n",
    "Como listas, strings também têm algumas funções específicas. Algumas delas são:"
   ]
  },
  {
   "cell_type": "markdown",
   "metadata": {},
   "source": [
    ".lower(): trasnforma todos os caracteres em minúscula"
   ]
  },
  {
   "cell_type": "code",
   "execution_count": 23,
   "metadata": {},
   "outputs": [
    {
     "data": {
      "text/plain": [
       "'vinicius'"
      ]
     },
     "execution_count": 23,
     "metadata": {},
     "output_type": "execute_result"
    }
   ],
   "source": [
    "nome = 'Vinicius'\n",
    "nome_minusculo = nome.lower()\n",
    "nome_minusculo"
   ]
  },
  {
   "cell_type": "code",
   "execution_count": 24,
   "metadata": {},
   "outputs": [
    {
     "data": {
      "text/plain": [
       "'Vinicius'"
      ]
     },
     "execution_count": 24,
     "metadata": {},
     "output_type": "execute_result"
    }
   ],
   "source": [
    "nome"
   ]
  },
  {
   "cell_type": "code",
   "execution_count": 37,
   "metadata": {},
   "outputs": [
    {
     "data": {
      "text/plain": [
       "'vinicius'"
      ]
     },
     "execution_count": 37,
     "metadata": {},
     "output_type": "execute_result"
    }
   ],
   "source": [
    "'Vinicius'.lower()"
   ]
  },
  {
   "cell_type": "markdown",
   "metadata": {},
   "source": [
    ".split(substring): quebra a string em determinada substring, tendo como resultado uma **lista com os caracteres além da quebra**. Para quebrar nos espaços, use a função \".split()\", sem argumento"
   ]
  },
  {
   "cell_type": "code",
   "execution_count": 29,
   "metadata": {},
   "outputs": [
    {
     "data": {
      "text/plain": [
       "['1', '2', '3', '4', '5', '7']"
      ]
     },
     "execution_count": 29,
     "metadata": {},
     "output_type": "execute_result"
    }
   ],
   "source": [
    "numeros = '1 2 3 4 5 7'\n",
    "numeros.split()"
   ]
  },
  {
   "cell_type": "markdown",
   "metadata": {},
   "source": [
    ".strip(): Tira espaços que tão sobrando no fim e no início da string"
   ]
  },
  {
   "cell_type": "code",
   "execution_count": 36,
   "metadata": {},
   "outputs": [
    {
     "name": "stdout",
     "output_type": "stream",
     "text": [
      "Digite a: A  \n",
      "A  \n",
      "A\n",
      "a\n",
      "True\n"
     ]
    }
   ],
   "source": [
    "ch = input('Digite a: ')\n",
    "print(ch)\n",
    "ch = ch.strip()\n",
    "print(ch)\n",
    "ch = ch.lower()\n",
    "print(ch)\n",
    "print(ch == 'a')"
   ]
  },
  {
   "cell_type": "markdown",
   "metadata": {},
   "source": [
    ".join(lista_de_strings): une as string na lista em uma string só, usando a string original como separador"
   ]
  },
  {
   "cell_type": "code",
   "execution_count": null,
   "metadata": {},
   "outputs": [],
   "source": []
  },
  {
   "cell_type": "code",
   "execution_count": 38,
   "metadata": {},
   "outputs": [
    {
     "data": {
      "text/plain": [
       "'bla__ble__bli'"
      ]
     },
     "execution_count": 38,
     "metadata": {},
     "output_type": "execute_result"
    }
   ],
   "source": [
    "'__'.join(['bla', 'ble', 'bli'])"
   ]
  },
  {
   "cell_type": "markdown",
   "metadata": {},
   "source": [
    ".replace(old, new): realiza substituições na string"
   ]
  },
  {
   "cell_type": "code",
   "execution_count": 42,
   "metadata": {},
   "outputs": [
    {
     "data": {
      "text/plain": [
       "'c__ac__ec__i'"
      ]
     },
     "execution_count": 42,
     "metadata": {},
     "output_type": "execute_result"
    }
   ],
   "source": [
    "'blablebli'.replace('bl', 'c__')"
   ]
  },
  {
   "cell_type": "markdown",
   "metadata": {},
   "source": [
    "_"
   ]
  },
  {
   "cell_type": "code",
   "execution_count": 49,
   "metadata": {},
   "outputs": [
    {
     "data": {
      "text/plain": [
       "True"
      ]
     },
     "execution_count": 49,
     "metadata": {},
     "output_type": "execute_result"
    }
   ],
   "source": [
    "'blee' not in 'blablebli'"
   ]
  },
  {
   "cell_type": "markdown",
   "metadata": {},
   "source": [
    "___\n",
    "___"
   ]
  },
  {
   "cell_type": "markdown",
   "metadata": {},
   "source": [
    "### 2.1) Formatação de strings\n",
    "Até o momento, temos construidos nossos outputs passando pedaços do texto de saida no `print`. Outra possibilidade seria somar os pedaços da string para obter a string final. "
   ]
  },
  {
   "cell_type": "code",
   "execution_count": 50,
   "metadata": {},
   "outputs": [
    {
     "name": "stdout",
     "output_type": "stream",
     "text": [
      "1/2/1994\n"
     ]
    }
   ],
   "source": [
    "dia = 1\n",
    "mes = 2\n",
    "ano = 1994\n",
    "print(dia,'/', mes,'/', ano, sep='')"
   ]
  },
  {
   "cell_type": "code",
   "execution_count": 51,
   "metadata": {},
   "outputs": [
    {
     "name": "stdout",
     "output_type": "stream",
     "text": [
      "1/2/1994\n"
     ]
    }
   ],
   "source": [
    "saida = str(dia) + '/' + str(mes) + '/' + str(ano)\n",
    "print(saida)"
   ]
  },
  {
   "cell_type": "markdown",
   "metadata": {},
   "source": [
    "Isso não é muito pratico, vamos ver como podemos melhorar a construção das nossas strings usando formatação de strings. \n",
    "\n",
    "As strings formatadas se estruturam ao redor do conceito de placeholders, lugares na string que serão substituidos por valores guardados em variaveis. Os placeholders são representados na string por `{}`\n"
   ]
  },
  {
   "cell_type": "code",
   "execution_count": 55,
   "metadata": {},
   "outputs": [
    {
     "data": {
      "text/plain": [
       "'Aniversario do Vinicius: 1/2/1994  3.3333333333333335'"
      ]
     },
     "execution_count": 55,
     "metadata": {},
     "output_type": "execute_result"
    }
   ],
   "source": [
    "nome = 'Vinicius'\n",
    "'Aniversario do {}: {}/{}/{}  {}'.format(nome, dia, mes, ano, 10/3)"
   ]
  },
  {
   "cell_type": "code",
   "execution_count": 56,
   "metadata": {},
   "outputs": [
    {
     "data": {
      "text/plain": [
       "'Aniversario do Vinicius: 1/2/1994  3.3333333333333335'"
      ]
     },
     "execution_count": 56,
     "metadata": {},
     "output_type": "execute_result"
    }
   ],
   "source": [
    "f'Aniversario do {nome}: {dia}/{mes}/{ano}  {10/3}'"
   ]
  },
  {
   "cell_type": "markdown",
   "metadata": {},
   "source": [
    "_"
   ]
  },
  {
   "cell_type": "code",
   "execution_count": null,
   "metadata": {},
   "outputs": [],
   "source": [
    "professores = [\n",
    "    ['Vinicius', 27, 'Brasileiro']\n",
    "]"
   ]
  },
  {
   "cell_type": "markdown",
   "metadata": {},
   "source": [
    "## 2) Dicionários\n",
    "\n",
    "O dicionário é uma estrutura de dados que faz um mapeamento de uma chave para um valor. Um exemplo de um dicionario é uma lista telefonica. A chave, nesse caso, é o nome do contato, o valor é número de telefone. Outro exemplo de dicionario pode ser as informações de um cliente. As chaves podem ser as caracteristicas dele - nome, altura, renda, ticket médio - e os valores os valores correspondentes a cada caracteristica.  \n",
    "\n",
    "O dicionário é definido a partir desses **dois elementos**: **chaves** e **valores**.\n",
    "\n",
    "- A **chave** é uma string ou int (ou qualquer valor hashable) que é utilizada como se fosse um índice, identificando os respectivos valores.\n",
    "\n",
    "- O **valor** pode ser qualquer objeto: um int, um float, uma str, um bool, uma lista, uma tupla, outro dicionário...\n",
    "\n",
    "Dicionários são indicados **entre chaves{}**, segundo a estrutura:\n",
    "\n",
    "```python\n",
    "dicionario = {\"chave\": valor}\n",
    "```"
   ]
  },
  {
   "cell_type": "code",
   "execution_count": 58,
   "metadata": {},
   "outputs": [
    {
     "data": {
      "text/plain": [
       "{'nome': 'bob', 'idade': 30, 'ticket': 200}"
      ]
     },
     "execution_count": 58,
     "metadata": {},
     "output_type": "execute_result"
    }
   ],
   "source": [
    "cliente = { \n",
    "    'nome': 'bob', \n",
    "    'idade': 30, \n",
    "    'ticket': 200 \n",
    "}\n",
    "cliente"
   ]
  },
  {
   "cell_type": "markdown",
   "metadata": {},
   "source": [
    "Para acessarmos um valor no dicionario, fazemos:"
   ]
  },
  {
   "cell_type": "code",
   "execution_count": 59,
   "metadata": {},
   "outputs": [
    {
     "data": {
      "text/plain": [
       "'bob'"
      ]
     },
     "execution_count": 59,
     "metadata": {},
     "output_type": "execute_result"
    }
   ],
   "source": [
    "cliente['nome']"
   ]
  },
  {
   "cell_type": "markdown",
   "metadata": {},
   "source": [
    "Para adicionarmos ou alterarmos um par chave-valor em um dicionario, fazemos"
   ]
  },
  {
   "cell_type": "code",
   "execution_count": 60,
   "metadata": {},
   "outputs": [
    {
     "data": {
      "text/plain": [
       "{'nome': 'Bob', 'idade': 30, 'ticket': 200}"
      ]
     },
     "execution_count": 60,
     "metadata": {},
     "output_type": "execute_result"
    }
   ],
   "source": [
    "cliente['nome'] = 'Bob'\n",
    "cliente"
   ]
  },
  {
   "cell_type": "code",
   "execution_count": 61,
   "metadata": {},
   "outputs": [
    {
     "data": {
      "text/plain": [
       "{'nome': 'Bob', 'idade': 30, 'ticket': 200, 'nacionalidade': 'Brasileiro'}"
      ]
     },
     "execution_count": 61,
     "metadata": {},
     "output_type": "execute_result"
    }
   ],
   "source": [
    "cliente['nacionalidade'] = 'Brasileiro'\n",
    "cliente"
   ]
  },
  {
   "cell_type": "markdown",
   "metadata": {},
   "source": [
    "Para remover um par chave-valor, fazemos"
   ]
  },
  {
   "cell_type": "code",
   "execution_count": 62,
   "metadata": {},
   "outputs": [
    {
     "data": {
      "text/plain": [
       "{'nome': 'Bob', 'ticket': 200, 'nacionalidade': 'Brasileiro'}"
      ]
     },
     "execution_count": 62,
     "metadata": {},
     "output_type": "execute_result"
    }
   ],
   "source": [
    "del cliente['idade']\n",
    "cliente"
   ]
  },
  {
   "cell_type": "markdown",
   "metadata": {},
   "source": [
    "Dicionarios são iteraveis. Quando iteramos sobre ele **iteramos sobre as chaves**"
   ]
  },
  {
   "cell_type": "code",
   "execution_count": 65,
   "metadata": {},
   "outputs": [
    {
     "name": "stdout",
     "output_type": "stream",
     "text": [
      "nome Bob\n",
      "ticket 200\n",
      "nacionalidade Brasileiro\n"
     ]
    }
   ],
   "source": [
    "for key in cliente:\n",
    "    print(key, cliente[key])\n",
    "    "
   ]
  },
  {
   "cell_type": "markdown",
   "metadata": {},
   "source": [
    "Por isso, quando testamos o `in` testamos se **a chave** existe no dicionario."
   ]
  },
  {
   "cell_type": "code",
   "execution_count": 66,
   "metadata": {},
   "outputs": [
    {
     "data": {
      "text/plain": [
       "True"
      ]
     },
     "execution_count": 66,
     "metadata": {},
     "output_type": "execute_result"
    }
   ],
   "source": [
    "'nome'  in cliente"
   ]
  },
  {
   "cell_type": "code",
   "execution_count": 67,
   "metadata": {},
   "outputs": [
    {
     "data": {
      "text/plain": [
       "False"
      ]
     },
     "execution_count": 67,
     "metadata": {},
     "output_type": "execute_result"
    }
   ],
   "source": [
    "'Bob' in cliente"
   ]
  },
  {
   "cell_type": "markdown",
   "metadata": {},
   "source": [
    "Se quisermos iterar sobre os pares chave-valor, podemos usar o .items()"
   ]
  },
  {
   "cell_type": "code",
   "execution_count": 68,
   "metadata": {},
   "outputs": [
    {
     "name": "stdout",
     "output_type": "stream",
     "text": [
      "nome Bob\n",
      "ticket 200\n",
      "nacionalidade Brasileiro\n"
     ]
    }
   ],
   "source": [
    "for key, value in cliente.items():\n",
    "    print(key, value)"
   ]
  },
  {
   "cell_type": "code",
   "execution_count": 69,
   "metadata": {},
   "outputs": [
    {
     "data": {
      "text/plain": [
       "{'nome': 'Bob', 'ticket': 200, 'nacionalidade': 'Brasileiro'}"
      ]
     },
     "execution_count": 69,
     "metadata": {},
     "output_type": "execute_result"
    }
   ],
   "source": [
    "cliente"
   ]
  },
  {
   "cell_type": "markdown",
   "metadata": {},
   "source": [
    "### Exemplo\n",
    "Um dicionario com informações de uma turma\n"
   ]
  },
  {
   "cell_type": "code",
   "execution_count": 71,
   "metadata": {},
   "outputs": [],
   "source": [
    "turma = {\n",
    "    'professor': 'Alex',\n",
    "    'alunos': ['Bob', 'Carlos', 'Dafne', 'Eduardo']\n",
    "}"
   ]
  },
  {
   "cell_type": "markdown",
   "metadata": {},
   "source": [
    "Perguntas: \n",
    "- como eu pego a informação do primeiro aluno?\n",
    "- como eu substituo o nome do primeiro aluno por 'Bernardo'?"
   ]
  },
  {
   "cell_type": "code",
   "execution_count": 76,
   "metadata": {},
   "outputs": [
    {
     "data": {
      "text/plain": [
       "'Bob'"
      ]
     },
     "execution_count": 76,
     "metadata": {},
     "output_type": "execute_result"
    }
   ],
   "source": [
    "turma['alunos'][0]\n"
   ]
  },
  {
   "cell_type": "code",
   "execution_count": 77,
   "metadata": {},
   "outputs": [
    {
     "data": {
      "text/plain": [
       "{'professor': 'Alex', 'alunos': ['Bernardo', 'Carlos', 'Dafne', 'Eduardo']}"
      ]
     },
     "execution_count": 77,
     "metadata": {},
     "output_type": "execute_result"
    }
   ],
   "source": [
    "turma['alunos'][0] = 'Bernardo'\n",
    "turma"
   ]
  },
  {
   "cell_type": "markdown",
   "metadata": {},
   "source": [
    "### Exercicio\n",
    "1. Crie um dicionario com as informações de um aluno: \n",
    "    - Nome \n",
    "    - Idade\n",
    "\n",
    "2. Adicione no dicionario do aluno acima as notas da P1 e P2 em uma lista\n",
    "\n",
    "3. Adicione a nota da P3 na lista de notas\n",
    "\n",
    "4. Adicione um campo professores, que é um dicionario com chave sendo o nome da disciplina e o valor o nome dos professores\n",
    "    - PRO221: Alberto\n",
    "    - MAP123: Fernando\n",
    "\n"
   ]
  },
  {
   "cell_type": "markdown",
   "metadata": {},
   "source": [
    "# A verdade sobre as variaveis!!!\n",
    "http://pythontutor.com/live.html#mode=edit"
   ]
  },
  {
   "cell_type": "markdown",
   "metadata": {},
   "source": [
    "# Listas aninhadas\n",
    "Listas aninhadas nada mais é do que quando temos listas dentro de outras listas. Ao indexarmos a nossa lista raiz, conseguimos acessar a lista naquela posição, e podemos fazer as operações normalmente com essa lista como se tivessemos ela em uma variavel. \n"
   ]
  },
  {
   "cell_type": "code",
   "execution_count": null,
   "metadata": {},
   "outputs": [],
   "source": [
    "lista = [[1,2], [3,4], 5]"
   ]
  },
  {
   "cell_type": "markdown",
   "metadata": {},
   "source": [
    "## Matrizes\n",
    "Matrizes é um caso particular de listas aninhadas. Usamos ela quando queremos uma estrutura de dados em forma de tabela. Assim, a nossa lista principal vai guardar listas onde cada sublista é uma linha e cada elemento da sublista se refere a posição em uma coluna (ou vice-versa).\n",
    "\n",
    "Por exemplo, se quisermos representar uma tabela com as informações de dois clientes, no esquema a seguir:\n",
    "\n",
    "<table>\n",
    "<thead>\n",
    "  <tr>\n",
    "    <th>Nome</th>\n",
    "    <th>Idade</th>\n",
    "    <th>P1</th>\n",
    "    <th>P2</th>\n",
    "  </tr>\n",
    "</thead>\n",
    "<tbody>\n",
    "  <tr>\n",
    "    <td>Pedro</td>\n",
    "    <td>21</td>\n",
    "    <td>7</td>\n",
    "    <td>9</td>\n",
    "  </tr>\n",
    "  <tr>\n",
    "    <td>Felipe</td>\n",
    "    <td>23</td>\n",
    "    <td>5</td>\n",
    "    <td>8</td>\n",
    "  </tr>\n",
    "</tbody>\n",
    "</table>"
   ]
  },
  {
   "cell_type": "markdown",
   "metadata": {},
   "source": [
    "podemos representar isso como:"
   ]
  },
  {
   "cell_type": "code",
   "execution_count": 46,
   "metadata": {},
   "outputs": [],
   "source": [
    "alunos = [\n",
    "    ['Pedro', 21, 7, 9],\n",
    "    ['Felipe', 23, 5, 8]\n",
    "]"
   ]
  },
  {
   "cell_type": "markdown",
   "metadata": {},
   "source": [
    "ou:"
   ]
  },
  {
   "cell_type": "code",
   "execution_count": 47,
   "metadata": {},
   "outputs": [],
   "source": [
    "alunos = [\n",
    "    ['Pedro', 'Felipe'],\n",
    "    [21, 23],\n",
    "    [7, 5],\n",
    "    [9, 8]\n",
    "]"
   ]
  },
  {
   "cell_type": "markdown",
   "metadata": {},
   "source": [
    "Para percorrermos matrizes, podemos usar `for` aninhados:"
   ]
  },
  {
   "cell_type": "code",
   "execution_count": null,
   "metadata": {},
   "outputs": [],
   "source": []
  },
  {
   "cell_type": "markdown",
   "metadata": {},
   "source": [
    "ou os indices:"
   ]
  },
  {
   "cell_type": "code",
   "execution_count": null,
   "metadata": {},
   "outputs": [],
   "source": []
  },
  {
   "cell_type": "code",
   "execution_count": null,
   "metadata": {},
   "outputs": [],
   "source": []
  },
  {
   "cell_type": "markdown",
   "metadata": {},
   "source": [
    "# Exercicios\n",
    "\n",
    "## Melhor aluno\n",
    "Dado a tabela acima, faça um programa que obtenha o nome do alunos de maior média. O seu programa deve ser escalavel no sentido de que a tabela poderia ter um numero bem grande de alunos\n"
   ]
  },
  {
   "cell_type": "markdown",
   "metadata": {},
   "source": [
    "## Muitos primos\n",
    "**exercicio de loops encadeados**\n",
    "\n",
    "Faça uma função que calcula os primeiros `n` números primos."
   ]
  },
  {
   "cell_type": "markdown",
   "metadata": {},
   "source": [
    "## Multiplicação de matrizes\n",
    "Faça uma programa que calcula o resultado de uma multiplicação de matrizes (representadas como lista de listas).\n",
    "\n",
    "Por exemplo:\n",
    "```python\n",
    "matriz_0 = [\n",
    "    [0, 2],\n",
    "    [1, 2]\n",
    "]\n",
    "\n",
    "matriz_1 = [\n",
    "    [6, 7],\n",
    "    [0, 9]\n",
    "]\n",
    "\n",
    "# seu codigo aqui\n",
    "\n",
    "print(resultado)\n",
    "# [\n",
    "#     [ 0, 18],\n",
    "#     [ 6, 25]\n",
    "# ]\n",
    "```"
   ]
  },
  {
   "cell_type": "code",
   "execution_count": null,
   "metadata": {},
   "outputs": [],
   "source": []
  }
 ],
 "metadata": {
  "kernelspec": {
   "display_name": "Python 3",
   "language": "python",
   "name": "python3"
  },
  "language_info": {
   "codemirror_mode": {
    "name": "ipython",
    "version": 3
   },
   "file_extension": ".py",
   "mimetype": "text/x-python",
   "name": "python",
   "nbconvert_exporter": "python",
   "pygments_lexer": "ipython3",
   "version": "3.8.3"
  },
  "varInspector": {
   "cols": {
    "lenName": 16,
    "lenType": 16,
    "lenVar": 40
   },
   "kernels_config": {
    "python": {
     "delete_cmd_postfix": "",
     "delete_cmd_prefix": "del ",
     "library": "var_list.py",
     "varRefreshCmd": "print(var_dic_list())"
    },
    "r": {
     "delete_cmd_postfix": ") ",
     "delete_cmd_prefix": "rm(",
     "library": "var_list.r",
     "varRefreshCmd": "cat(var_dic_list()) "
    }
   },
   "types_to_exclude": [
    "module",
    "function",
    "builtin_function_or_method",
    "instance",
    "_Feature"
   ],
   "window_display": false
  }
 },
 "nbformat": 4,
 "nbformat_minor": 4
}
