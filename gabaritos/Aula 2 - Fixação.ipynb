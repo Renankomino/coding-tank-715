{
 "cells": [
  {
   "cell_type": "markdown",
   "metadata": {
    "id": "R3hC6u7h8eas"
   },
   "source": [
    "# Aula 2 - Fixacao"
   ]
  },
  {
   "cell_type": "markdown",
   "metadata": {
    "id": "jmk7e4x77NfW"
   },
   "source": [
    "## Q1\n",
    "Faça um script que mostra a média de duas notas."
   ]
  },
  {
   "cell_type": "code",
   "execution_count": null,
   "metadata": {
    "id": "dt2IB03HTrWH"
   },
   "outputs": [],
   "source": [
    "nota_1 = float(input(\"Digite a primeira nota: \"))\n",
    "nota_2 = float(input(\"Digite a segunda nota: \"))\n",
    "media = (nota_1 + nota_2) / 2\n",
    "print(\"A média entre as duas notas é:\", media)"
   ]
  },
  {
   "cell_type": "markdown",
   "metadata": {
    "id": "-U9dmFXx7Nij"
   },
   "source": [
    "## Q2\n",
    "\n",
    "Faça um script para somar dois números e multiplicar o resultado pelo primeiro número."
   ]
  },
  {
   "cell_type": "code",
   "execution_count": null,
   "metadata": {
    "id": "Kdro12QRUjrI"
   },
   "outputs": [],
   "source": [
    "numero_1 = float(input(\"Digite o primeiro número: \"))\n",
    "numero_2 = float(input(\"Digite o segundo númeero: \"))\n",
    "soma = numero_1 + numero_2\n",
    "num_final = soma * numero_1\n",
    "print(\"O resultado é:\", num_final)"
   ]
  },
  {
   "cell_type": "markdown",
   "metadata": {
    "id": "oAxKkh1t7Nnp"
   },
   "source": [
    "## Q3\n",
    "Escreva um script para ler um valor (do teclado) e escrever (na tela) o seu antecessor.\n"
   ]
  },
  {
   "cell_type": "code",
   "execution_count": null,
   "metadata": {
    "id": "dAfi1H02VApH"
   },
   "outputs": [],
   "source": [
    "numero = int(input(\"Digite um valor: \"))\n",
    "print(\"O antecessor do valor digitado é:\", numero - 1)"
   ]
  },
  {
   "cell_type": "markdown",
   "metadata": {
    "id": "DRNxOdwD7NrM"
   },
   "source": [
    "## Q4\n",
    "\n",
    "Escreva um script para ler o salário mensal atual de um funcionário e o percentual de reajuste. Calcular e escrever o valor do novo salário.\n"
   ]
  },
  {
   "cell_type": "code",
   "execution_count": null,
   "metadata": {
    "id": "GovAQK1SVWF4"
   },
   "outputs": [],
   "source": [
    "salario_atual = float(input(\"Digite o salário mensal atual do funcionário: \"))\n",
    "percentual_reajuste = float(input(\"Digite o percentual de reajuste: \"))\n",
    "reajuste = 1 + (percentual_reajuste / 100)\n",
    "novo_salario = salario_atual * reajuste\n",
    "print(\"O novo salário é: R$\", novo_salario)"
   ]
  },
  {
   "cell_type": "markdown",
   "metadata": {
    "id": "XvmzNDSd7Nu_"
   },
   "source": [
    "## Q5\n",
    "Escreva um script que armazene o valor 10 em uma variável A e o valor 20 em uma variável B. A seguir (utilizando apenas atribuições entre variáveis) troque os seus conteúdos fazendo com que o valor que está em A passe para B e vice-versa. Ao final, escrever os valores que ficaram armazenados nas variáveis.\n"
   ]
  },
  {
   "cell_type": "code",
   "execution_count": null,
   "metadata": {
    "id": "tDxt0yXUXPDv"
   },
   "outputs": [],
   "source": [
    "A = 10\n",
    "B = 20\n",
    "aux = A\n",
    "A = B\n",
    "B = aux\n",
    "\n",
    "print(\"O valor da variável A é: \", A)\n",
    "print(\"O valor da variável B é: \", B)"
   ]
  },
  {
   "cell_type": "markdown",
   "metadata": {
    "id": "UCtNTUh37Nya"
   },
   "source": [
    "## Q6\n",
    "Faça um script que peça um nome e a idade que a pessoa fez ou vai fazer esse ano. Ao final, informe o ano de nascimento dessa pessoa.\n"
   ]
  },
  {
   "cell_type": "code",
   "execution_count": null,
   "metadata": {
    "id": "jOjMgJRYYWdp"
   },
   "outputs": [],
   "source": [
    "nome = input(\"Digite o nome: \")\n",
    "idade = int(input(\"Digite a idade que tem ou vai ter neste ano: \"))\n",
    "ano_nascimento = 2021 - idade\n",
    "print(\"A pessoa com o nome:\", nome, \", nasceu no ano:\", ano_nascimento)"
   ]
  },
  {
   "cell_type": "markdown",
   "metadata": {
    "id": "DXKclFmR7fTu"
   },
   "source": [
    "## Q7\n",
    "Faça um script que receba um número e informe:\n",
    "\n",
    "    1. O dobro desse número\n",
    "    2. O número ao quadrado\n",
    "    3. O número ao cubo\n",
    "\n"
   ]
  },
  {
   "cell_type": "code",
   "execution_count": null,
   "metadata": {
    "id": "yc9iZK4VZxRu"
   },
   "outputs": [],
   "source": [
    "numero = float(input(\"Digite um número: \"))\n",
    "print(\"O dobro de\", numero, \"é\", numero * 2)\n",
    "print(\"O quadrado de\", numero, \"é\", numero ** 2)\n",
    "print(\"O cubo de\", numero, \"é\", numero ** 3)"
   ]
  },
  {
   "cell_type": "markdown",
   "metadata": {
    "id": "4a1-e7yy7fXB"
   },
   "source": [
    "## Q8\n",
    "Faça um script que converta graus Fahrenheit para Celsius\n",
    "\n",
    "Dica: C = (5 * (F-32) / 9)\n"
   ]
  },
  {
   "cell_type": "code",
   "execution_count": null,
   "metadata": {
    "id": "kvFhZWhqat_9"
   },
   "outputs": [],
   "source": [
    "F = float(input(\"Informe a temperatura em Fahrenheit: \"))\n",
    "C = 5 * (F - 32) / 9\n",
    "print(\"A temperatura em Celsius é: \", C)"
   ]
  }
 ],
 "metadata": {
  "colab": {
   "collapsed_sections": [],
   "name": "357b55f2-e4cf-437e-9860-97f176a96ee2.ipynb",
   "provenance": []
  },
  "kernelspec": {
   "display_name": "Python 3",
   "language": "python",
   "name": "python3"
  },
  "language_info": {
   "codemirror_mode": {
    "name": "ipython",
    "version": 3
   },
   "file_extension": ".py",
   "mimetype": "text/x-python",
   "name": "python",
   "nbconvert_exporter": "python",
   "pygments_lexer": "ipython3",
   "version": "3.8.3"
  }
 },
 "nbformat": 4,
 "nbformat_minor": 1
}
